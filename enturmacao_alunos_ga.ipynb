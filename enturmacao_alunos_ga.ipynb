{
 "cells": [
  {
   "cell_type": "markdown",
   "id": "5e8b8b05",
   "metadata": {},
   "source": [
    "# Algoritimo Genético"
   ]
  },
  {
   "cell_type": "markdown",
   "id": "9001673f",
   "metadata": {},
   "source": [
    "# 1. Introdução\n",
    "\n",
    "Olá! Meu nome é joão luiz, integrante do Grupo 30 da pos graduação IA para Devs 2025.\n",
    "\n",
    "Na Fase 2 Apresento esse projeto de Algoritimo Genético focado em distribuir alunos em turmas, buscando o equilíbrio de atributos como:\n",
    "\n",
    "Primeira letra do nome (PrimeiraLetra)\n",
    "Procedência (Procedencia)\n",
    "Sexo (Sexo)\n",
    "Idade (Idade)\n",
    "\n",
    "\n",
    "```\n",
    "Edher                - RM361040\n",
    "Yago Marialva        - RM361884\n",
    "João Sá              - RM363107\n",
    "Franclin             - RM364871\n",
    "Pavão                - RM364496\n",
    "```"
   ]
  },
  {
   "cell_type": "markdown",
   "id": "91341538",
   "metadata": {},
   "source": [
    "## Importação biblioteca"
   ]
  },
  {
   "cell_type": "markdown",
   "id": "627393f5",
   "metadata": {},
   "source": [
    "Temos o pacote pygad para simular milhares de distribuições de alunos. Cada tentativa é uma solução possível, e o algoritmo vai evoluindo.\n",
    "\n",
    "\n"
   ]
  },
  {
   "cell_type": "code",
   "execution_count": 8,
   "id": "86511090",
   "metadata": {},
   "outputs": [],
   "source": [
    "import numpy as np\n",
    "import pandas as pd\n",
    "import pygad\n",
    "from prettytable import PrettyTable\n",
    "\n",
    "from itertools import repeat, chain\n",
    "from collections import defaultdict, Counter\n",
    "import random\n",
    "\n",
    "# Visualização de dados\n",
    "import matplotlib.pyplot as plt\n",
    "import seaborn as sns\n",
    "\n",
    "sns.set_theme(style=\"white\", palette=None)\n",
    "\n",
    "from ga import obtenha_alunos\n",
    "from ga import calcula_penalidade\n"
   ]
  },
  {
   "cell_type": "markdown",
   "id": "6f182d38",
   "metadata": {},
   "source": [
    "## Preparação dos dados"
   ]
  },
  {
   "cell_type": "markdown",
   "id": "0e65c479",
   "metadata": {},
   "source": [
    "\n",
    "Visualizações iniciais encontradas no arquivo:"
   ]
  },
  {
   "cell_type": "code",
   "execution_count": 9,
   "id": "c1fc8bb6",
   "metadata": {},
   "outputs": [
    {
     "name": "stdout",
     "output_type": "stream",
     "text": [
      "Total de alunos: 119\n",
      "Quantidade de turmas: 5\n",
      "Quantidade de alunos por turma: 24\n",
      "Ocupação turmas: 120\n",
      "Ocupação máxima total: 125\n"
     ]
    }
   ],
   "source": [
    "df = pd.read_csv('alunos.csv')\n",
    "\n",
    "#Essa é a proporção ideal para que a turma não fique completamente cheia e que permita depois novos alunos para ser enturmados\n",
    "maximo_alunos_por_turma = 25 \n",
    "total_alunos = df.Nome.count()\n",
    "numero_turmas = int(np.ceil(total_alunos / maximo_alunos_por_turma))\n",
    "total_alunos_por_turma_distribuida = int(np.ceil(total_alunos / numero_turmas))\n",
    "\n",
    "#Esse é o número máximo de alunos se todas as turmas estiverem preenchidas com o máximo permitido\n",
    "ocupacao_maxima = int(numero_turmas * maximo_alunos_por_turma) \n",
    "ocupacao_total_turmas = total_alunos_por_turma_distribuida * numero_turmas\n",
    "\n",
    "print(f\"Total de alunos: {total_alunos}\")\n",
    "print(f\"Quantidade de turmas: {numero_turmas}\")\n",
    "print(f\"Quantidade de alunos por turma: {total_alunos_por_turma_distribuida}\") \n",
    "print(f\"Ocupação turmas: {ocupacao_total_turmas}\") \n",
    "print(f\"Ocupação máxima total: {ocupacao_maxima}\")"
   ]
  },
  {
   "cell_type": "markdown",
   "id": "b1556b35",
   "metadata": {},
   "source": [
    "### Uma análise para cada restrição\n",
    "\n",
    "Agrupando alunos pela primeira letra do nome, e calculando quantas turmas precisam ter alunos com essa letra."
   ]
  },
  {
   "cell_type": "code",
   "execution_count": 10,
   "id": "8f456dfb",
   "metadata": {},
   "outputs": [
    {
     "data": {
      "text/html": [
       "<div>\n",
       "<style scoped>\n",
       "    .dataframe tbody tr th:only-of-type {\n",
       "        vertical-align: middle;\n",
       "    }\n",
       "\n",
       "    .dataframe tbody tr th {\n",
       "        vertical-align: top;\n",
       "    }\n",
       "\n",
       "    .dataframe thead th {\n",
       "        text-align: right;\n",
       "    }\n",
       "</style>\n",
       "<table border=\"1\" class=\"dataframe\">\n",
       "  <thead>\n",
       "    <tr style=\"text-align: right;\">\n",
       "      <th></th>\n",
       "      <th>PrimeiraLetra</th>\n",
       "      <th>Contagem</th>\n",
       "      <th>MinimoTurma</th>\n",
       "      <th>MaximoTurma</th>\n",
       "    </tr>\n",
       "  </thead>\n",
       "  <tbody>\n",
       "    <tr>\n",
       "      <th>0</th>\n",
       "      <td>A</td>\n",
       "      <td>10</td>\n",
       "      <td>2.0</td>\n",
       "      <td>2.0</td>\n",
       "    </tr>\n",
       "    <tr>\n",
       "      <th>1</th>\n",
       "      <td>B</td>\n",
       "      <td>4</td>\n",
       "      <td>0.0</td>\n",
       "      <td>1.0</td>\n",
       "    </tr>\n",
       "    <tr>\n",
       "      <th>2</th>\n",
       "      <td>C</td>\n",
       "      <td>7</td>\n",
       "      <td>1.0</td>\n",
       "      <td>2.0</td>\n",
       "    </tr>\n",
       "    <tr>\n",
       "      <th>3</th>\n",
       "      <td>D</td>\n",
       "      <td>8</td>\n",
       "      <td>1.0</td>\n",
       "      <td>2.0</td>\n",
       "    </tr>\n",
       "    <tr>\n",
       "      <th>4</th>\n",
       "      <td>E</td>\n",
       "      <td>5</td>\n",
       "      <td>1.0</td>\n",
       "      <td>1.0</td>\n",
       "    </tr>\n",
       "    <tr>\n",
       "      <th>5</th>\n",
       "      <td>F</td>\n",
       "      <td>5</td>\n",
       "      <td>1.0</td>\n",
       "      <td>1.0</td>\n",
       "    </tr>\n",
       "    <tr>\n",
       "      <th>6</th>\n",
       "      <td>G</td>\n",
       "      <td>8</td>\n",
       "      <td>1.0</td>\n",
       "      <td>2.0</td>\n",
       "    </tr>\n",
       "    <tr>\n",
       "      <th>7</th>\n",
       "      <td>H</td>\n",
       "      <td>11</td>\n",
       "      <td>2.0</td>\n",
       "      <td>3.0</td>\n",
       "    </tr>\n",
       "    <tr>\n",
       "      <th>8</th>\n",
       "      <td>I</td>\n",
       "      <td>4</td>\n",
       "      <td>0.0</td>\n",
       "      <td>1.0</td>\n",
       "    </tr>\n",
       "    <tr>\n",
       "      <th>9</th>\n",
       "      <td>J</td>\n",
       "      <td>10</td>\n",
       "      <td>2.0</td>\n",
       "      <td>2.0</td>\n",
       "    </tr>\n",
       "    <tr>\n",
       "      <th>10</th>\n",
       "      <td>K</td>\n",
       "      <td>1</td>\n",
       "      <td>0.0</td>\n",
       "      <td>1.0</td>\n",
       "    </tr>\n",
       "    <tr>\n",
       "      <th>11</th>\n",
       "      <td>L</td>\n",
       "      <td>15</td>\n",
       "      <td>3.0</td>\n",
       "      <td>3.0</td>\n",
       "    </tr>\n",
       "    <tr>\n",
       "      <th>12</th>\n",
       "      <td>M</td>\n",
       "      <td>17</td>\n",
       "      <td>3.0</td>\n",
       "      <td>4.0</td>\n",
       "    </tr>\n",
       "    <tr>\n",
       "      <th>13</th>\n",
       "      <td>O</td>\n",
       "      <td>1</td>\n",
       "      <td>0.0</td>\n",
       "      <td>1.0</td>\n",
       "    </tr>\n",
       "    <tr>\n",
       "      <th>14</th>\n",
       "      <td>P</td>\n",
       "      <td>5</td>\n",
       "      <td>1.0</td>\n",
       "      <td>1.0</td>\n",
       "    </tr>\n",
       "    <tr>\n",
       "      <th>15</th>\n",
       "      <td>R</td>\n",
       "      <td>1</td>\n",
       "      <td>0.0</td>\n",
       "      <td>1.0</td>\n",
       "    </tr>\n",
       "    <tr>\n",
       "      <th>16</th>\n",
       "      <td>T</td>\n",
       "      <td>3</td>\n",
       "      <td>0.0</td>\n",
       "      <td>1.0</td>\n",
       "    </tr>\n",
       "    <tr>\n",
       "      <th>17</th>\n",
       "      <td>V</td>\n",
       "      <td>3</td>\n",
       "      <td>0.0</td>\n",
       "      <td>1.0</td>\n",
       "    </tr>\n",
       "    <tr>\n",
       "      <th>18</th>\n",
       "      <td>Y</td>\n",
       "      <td>1</td>\n",
       "      <td>0.0</td>\n",
       "      <td>1.0</td>\n",
       "    </tr>\n",
       "  </tbody>\n",
       "</table>\n",
       "</div>"
      ],
      "text/plain": [
       "   PrimeiraLetra  Contagem  MinimoTurma  MaximoTurma\n",
       "0              A        10          2.0          2.0\n",
       "1              B         4          0.0          1.0\n",
       "2              C         7          1.0          2.0\n",
       "3              D         8          1.0          2.0\n",
       "4              E         5          1.0          1.0\n",
       "5              F         5          1.0          1.0\n",
       "6              G         8          1.0          2.0\n",
       "7              H        11          2.0          3.0\n",
       "8              I         4          0.0          1.0\n",
       "9              J        10          2.0          2.0\n",
       "10             K         1          0.0          1.0\n",
       "11             L        15          3.0          3.0\n",
       "12             M        17          3.0          4.0\n",
       "13             O         1          0.0          1.0\n",
       "14             P         5          1.0          1.0\n",
       "15             R         1          0.0          1.0\n",
       "16             T         3          0.0          1.0\n",
       "17             V         3          0.0          1.0\n",
       "18             Y         1          0.0          1.0"
      ]
     },
     "execution_count": 10,
     "metadata": {},
     "output_type": "execute_result"
    }
   ],
   "source": [
    "df_agrupado_primeira_letra = df.groupby('PrimeiraLetra')['PrimeiraLetra'].agg([\n",
    "    ('Contagem', 'count'),\n",
    "    ('MinimoTurma', lambda x: np.floor(x.count() / numero_turmas)),\n",
    "    ('MaximoTurma', lambda x: np.ceil(x.count() / numero_turmas)),\n",
    "]).reset_index()\n",
    "df_agrupado_primeira_letra"
   ]
  },
  {
   "cell_type": "markdown",
   "id": "eaf9f030",
   "metadata": {},
   "source": [
    "Agrupando alunos pela procedencia, ou seja, pela origem dos alunos (por exemplo: escola anterior, cidade, bairro etc.)."
   ]
  },
  {
   "cell_type": "code",
   "execution_count": 11,
   "id": "012f9644",
   "metadata": {},
   "outputs": [
    {
     "data": {
      "text/html": [
       "<div>\n",
       "<style scoped>\n",
       "    .dataframe tbody tr th:only-of-type {\n",
       "        vertical-align: middle;\n",
       "    }\n",
       "\n",
       "    .dataframe tbody tr th {\n",
       "        vertical-align: top;\n",
       "    }\n",
       "\n",
       "    .dataframe thead th {\n",
       "        text-align: right;\n",
       "    }\n",
       "</style>\n",
       "<table border=\"1\" class=\"dataframe\">\n",
       "  <thead>\n",
       "    <tr style=\"text-align: right;\">\n",
       "      <th></th>\n",
       "      <th>Procedencia</th>\n",
       "      <th>Contagem</th>\n",
       "      <th>MinimoTurma</th>\n",
       "      <th>MaximoTurma</th>\n",
       "    </tr>\n",
       "  </thead>\n",
       "  <tbody>\n",
       "    <tr>\n",
       "      <th>0</th>\n",
       "      <td>1</td>\n",
       "      <td>2</td>\n",
       "      <td>0.0</td>\n",
       "      <td>1.0</td>\n",
       "    </tr>\n",
       "    <tr>\n",
       "      <th>1</th>\n",
       "      <td>132</td>\n",
       "      <td>2</td>\n",
       "      <td>0.0</td>\n",
       "      <td>1.0</td>\n",
       "    </tr>\n",
       "    <tr>\n",
       "      <th>2</th>\n",
       "      <td>254</td>\n",
       "      <td>8</td>\n",
       "      <td>1.0</td>\n",
       "      <td>2.0</td>\n",
       "    </tr>\n",
       "    <tr>\n",
       "      <th>3</th>\n",
       "      <td>289</td>\n",
       "      <td>5</td>\n",
       "      <td>1.0</td>\n",
       "      <td>1.0</td>\n",
       "    </tr>\n",
       "    <tr>\n",
       "      <th>4</th>\n",
       "      <td>368</td>\n",
       "      <td>74</td>\n",
       "      <td>14.0</td>\n",
       "      <td>15.0</td>\n",
       "    </tr>\n",
       "    <tr>\n",
       "      <th>5</th>\n",
       "      <td>380</td>\n",
       "      <td>1</td>\n",
       "      <td>0.0</td>\n",
       "      <td>1.0</td>\n",
       "    </tr>\n",
       "    <tr>\n",
       "      <th>6</th>\n",
       "      <td>385</td>\n",
       "      <td>2</td>\n",
       "      <td>0.0</td>\n",
       "      <td>1.0</td>\n",
       "    </tr>\n",
       "    <tr>\n",
       "      <th>7</th>\n",
       "      <td>31577</td>\n",
       "      <td>2</td>\n",
       "      <td>0.0</td>\n",
       "      <td>1.0</td>\n",
       "    </tr>\n",
       "    <tr>\n",
       "      <th>8</th>\n",
       "      <td>32342</td>\n",
       "      <td>1</td>\n",
       "      <td>0.0</td>\n",
       "      <td>1.0</td>\n",
       "    </tr>\n",
       "    <tr>\n",
       "      <th>9</th>\n",
       "      <td>501263</td>\n",
       "      <td>1</td>\n",
       "      <td>0.0</td>\n",
       "      <td>1.0</td>\n",
       "    </tr>\n",
       "    <tr>\n",
       "      <th>10</th>\n",
       "      <td>501334</td>\n",
       "      <td>4</td>\n",
       "      <td>0.0</td>\n",
       "      <td>1.0</td>\n",
       "    </tr>\n",
       "    <tr>\n",
       "      <th>11</th>\n",
       "      <td>501421</td>\n",
       "      <td>1</td>\n",
       "      <td>0.0</td>\n",
       "      <td>1.0</td>\n",
       "    </tr>\n",
       "    <tr>\n",
       "      <th>12</th>\n",
       "      <td>501446</td>\n",
       "      <td>14</td>\n",
       "      <td>2.0</td>\n",
       "      <td>3.0</td>\n",
       "    </tr>\n",
       "    <tr>\n",
       "      <th>13</th>\n",
       "      <td>501503</td>\n",
       "      <td>1</td>\n",
       "      <td>0.0</td>\n",
       "      <td>1.0</td>\n",
       "    </tr>\n",
       "    <tr>\n",
       "      <th>14</th>\n",
       "      <td>501592</td>\n",
       "      <td>1</td>\n",
       "      <td>0.0</td>\n",
       "      <td>1.0</td>\n",
       "    </tr>\n",
       "  </tbody>\n",
       "</table>\n",
       "</div>"
      ],
      "text/plain": [
       "    Procedencia  Contagem  MinimoTurma  MaximoTurma\n",
       "0             1         2          0.0          1.0\n",
       "1           132         2          0.0          1.0\n",
       "2           254         8          1.0          2.0\n",
       "3           289         5          1.0          1.0\n",
       "4           368        74         14.0         15.0\n",
       "5           380         1          0.0          1.0\n",
       "6           385         2          0.0          1.0\n",
       "7         31577         2          0.0          1.0\n",
       "8         32342         1          0.0          1.0\n",
       "9        501263         1          0.0          1.0\n",
       "10       501334         4          0.0          1.0\n",
       "11       501421         1          0.0          1.0\n",
       "12       501446        14          2.0          3.0\n",
       "13       501503         1          0.0          1.0\n",
       "14       501592         1          0.0          1.0"
      ]
     },
     "execution_count": 11,
     "metadata": {},
     "output_type": "execute_result"
    }
   ],
   "source": [
    "df_agrupado_procedencia = df.groupby('Procedencia')['Procedencia'].agg([\n",
    "    ('Contagem', 'count'),\n",
    "    ('MinimoTurma', lambda x: np.floor(x.count() / numero_turmas)),\n",
    "    ('MaximoTurma', lambda x: np.ceil(x.count() / numero_turmas)),\n",
    "]).reset_index()\n",
    "df_agrupado_procedencia"
   ]
  },
  {
   "cell_type": "markdown",
   "id": "c163a7f7",
   "metadata": {},
   "source": [
    "Agrupamento pelo sexo, garantindo uma distribuição equilibrada de meninos e meninas."
   ]
  },
  {
   "cell_type": "code",
   "execution_count": 12,
   "id": "649d6ff8",
   "metadata": {},
   "outputs": [
    {
     "data": {
      "text/html": [
       "<div>\n",
       "<style scoped>\n",
       "    .dataframe tbody tr th:only-of-type {\n",
       "        vertical-align: middle;\n",
       "    }\n",
       "\n",
       "    .dataframe tbody tr th {\n",
       "        vertical-align: top;\n",
       "    }\n",
       "\n",
       "    .dataframe thead th {\n",
       "        text-align: right;\n",
       "    }\n",
       "</style>\n",
       "<table border=\"1\" class=\"dataframe\">\n",
       "  <thead>\n",
       "    <tr style=\"text-align: right;\">\n",
       "      <th></th>\n",
       "      <th>Sexo</th>\n",
       "      <th>Contagem</th>\n",
       "      <th>MinimoTurma</th>\n",
       "      <th>MaximoTurma</th>\n",
       "    </tr>\n",
       "  </thead>\n",
       "  <tbody>\n",
       "    <tr>\n",
       "      <th>0</th>\n",
       "      <td>F</td>\n",
       "      <td>43</td>\n",
       "      <td>8.0</td>\n",
       "      <td>9.0</td>\n",
       "    </tr>\n",
       "    <tr>\n",
       "      <th>1</th>\n",
       "      <td>M</td>\n",
       "      <td>76</td>\n",
       "      <td>15.0</td>\n",
       "      <td>16.0</td>\n",
       "    </tr>\n",
       "  </tbody>\n",
       "</table>\n",
       "</div>"
      ],
      "text/plain": [
       "  Sexo  Contagem  MinimoTurma  MaximoTurma\n",
       "0    F        43          8.0          9.0\n",
       "1    M        76         15.0         16.0"
      ]
     },
     "execution_count": 12,
     "metadata": {},
     "output_type": "execute_result"
    }
   ],
   "source": [
    "df_agrupado_sexo = df.groupby('Sexo')['Sexo'].agg([\n",
    "    ('Contagem', 'count'),\n",
    "    ('MinimoTurma', lambda x: np.floor(x.count() / numero_turmas)),\n",
    "    ('MaximoTurma', lambda x: np.ceil(x.count() / numero_turmas)),\n",
    "]).reset_index()\n",
    "df_agrupado_sexo"
   ]
  },
  {
   "cell_type": "markdown",
   "id": "951aac5b",
   "metadata": {},
   "source": [
    "Agrupa alunos por Idade, garantindo que alunos de uma mesma idade fiquem bem distribuídos."
   ]
  },
  {
   "cell_type": "code",
   "execution_count": 13,
   "id": "641d2620",
   "metadata": {},
   "outputs": [
    {
     "data": {
      "text/html": [
       "<div>\n",
       "<style scoped>\n",
       "    .dataframe tbody tr th:only-of-type {\n",
       "        vertical-align: middle;\n",
       "    }\n",
       "\n",
       "    .dataframe tbody tr th {\n",
       "        vertical-align: top;\n",
       "    }\n",
       "\n",
       "    .dataframe thead th {\n",
       "        text-align: right;\n",
       "    }\n",
       "</style>\n",
       "<table border=\"1\" class=\"dataframe\">\n",
       "  <thead>\n",
       "    <tr style=\"text-align: right;\">\n",
       "      <th></th>\n",
       "      <th>Contagem</th>\n",
       "      <th>MinimoTurma</th>\n",
       "      <th>MaximoTurma</th>\n",
       "    </tr>\n",
       "    <tr>\n",
       "      <th>Idade</th>\n",
       "      <th></th>\n",
       "      <th></th>\n",
       "      <th></th>\n",
       "    </tr>\n",
       "  </thead>\n",
       "  <tbody>\n",
       "    <tr>\n",
       "      <th>9</th>\n",
       "      <td>1</td>\n",
       "      <td>0.0</td>\n",
       "      <td>1.0</td>\n",
       "    </tr>\n",
       "    <tr>\n",
       "      <th>10</th>\n",
       "      <td>2</td>\n",
       "      <td>0.0</td>\n",
       "      <td>1.0</td>\n",
       "    </tr>\n",
       "    <tr>\n",
       "      <th>11</th>\n",
       "      <td>84</td>\n",
       "      <td>16.0</td>\n",
       "      <td>17.0</td>\n",
       "    </tr>\n",
       "    <tr>\n",
       "      <th>12</th>\n",
       "      <td>32</td>\n",
       "      <td>6.0</td>\n",
       "      <td>7.0</td>\n",
       "    </tr>\n",
       "  </tbody>\n",
       "</table>\n",
       "</div>"
      ],
      "text/plain": [
       "       Contagem  MinimoTurma  MaximoTurma\n",
       "Idade                                    \n",
       "9             1          0.0          1.0\n",
       "10            2          0.0          1.0\n",
       "11           84         16.0         17.0\n",
       "12           32          6.0          7.0"
      ]
     },
     "execution_count": 13,
     "metadata": {},
     "output_type": "execute_result"
    }
   ],
   "source": [
    "df_agrupado_idade = df.groupby('Idade')['Idade'].agg([\n",
    "    ('Contagem', 'count'),\n",
    "    ('MinimoTurma', lambda x: np.floor(x.count() / numero_turmas)),\n",
    "    ('MaximoTurma', lambda x: np.ceil(x.count() / numero_turmas)),\n",
    "])\n",
    "df_agrupado_idade"
   ]
  },
  {
   "cell_type": "markdown",
   "id": "960eb972",
   "metadata": {},
   "source": [
    "## Calculando os pisos e tetos para montar as penalidades com base nos mínimos e máximos de cada restrição"
   ]
  },
  {
   "cell_type": "markdown",
   "id": "34cc9a28",
   "metadata": {},
   "source": [
    "Prepara os limites de diversidade que serão usados pelo algoritmo genético. Ele transforma os dados agrupados em dicionários de referência, para orientar como os alunos devem ser distribuídos por turma."
   ]
  },
  {
   "cell_type": "code",
   "execution_count": 14,
   "id": "0cb8550d",
   "metadata": {},
   "outputs": [
    {
     "name": "stdout",
     "output_type": "stream",
     "text": [
      "Sexo: {'F': 43, 'M': 76}\n",
      "Idade: {9: 1, 10: 2, 11: 84, 12: 32}\n",
      "Procedencia: {1: 2, 132: 2, 254: 8, 289: 5, 368: 74, 380: 1, 385: 2, 31577: 2, 32342: 1, 501263: 1, 501334: 4, 501421: 1, 501446: 14, 501503: 1, 501592: 1}\n",
      "Primeira letra: {'A': 10, 'B': 4, 'C': 7, 'D': 8, 'E': 5, 'F': 5, 'G': 8, 'H': 11, 'I': 4, 'J': 10, 'K': 1, 'L': 15, 'M': 17, 'O': 1, 'P': 5, 'R': 1, 'T': 3, 'V': 3, 'Y': 1}\n",
      "\n",
      "{'F': [8, 9], 'M': [15, 16]}\n",
      "{'A': [2, 2], 'B': [0, 1], 'C': [1, 2], 'D': [1, 2], 'E': [1, 1], 'F': [1, 1], 'G': [1, 2], 'H': [2, 3], 'I': [0, 1], 'J': [2, 2], 'K': [0, 1], 'L': [3, 3], 'M': [3, 4], 'O': [0, 1], 'P': [1, 1], 'R': [0, 1], 'T': [0, 1], 'V': [0, 1], 'Y': [0, 1]}\n",
      "{1: [0, 1], 132: [0, 1], 254: [1, 2], 289: [1, 1], 368: [14, 15], 380: [0, 1], 385: [0, 1], 31577: [0, 1], 32342: [0, 1], 501263: [0, 1], 501334: [0, 1], 501421: [0, 1], 501446: [2, 3], 501503: [0, 1], 501592: [0, 1]}\n",
      "{9: [0, 1], 10: [0, 1], 11: [16, 17], 12: [6, 7]}\n"
     ]
    }
   ],
   "source": [
    "grupo_sexo = df.groupby('Sexo')['Sexo'].value_counts().to_dict()\n",
    "grupo_pl = df.groupby('PrimeiraLetra')['PrimeiraLetra'].value_counts().to_dict()\n",
    "grupo_procedencia = df.groupby('Procedencia')['Procedencia'].value_counts().to_dict()\n",
    "grupo_idade = df.groupby('Idade')['Idade'].value_counts().to_dict()\n",
    "\n",
    "grupo_sexo_pt = {k: [int(np.floor(v / numero_turmas)), int(np.ceil(v / numero_turmas))] for k, v in grupo_sexo.items()}\n",
    "grupo_pl_pt = {k: [int(np.floor(v / numero_turmas)), int(np.ceil(v / numero_turmas))] for k, v in grupo_pl.items()}\n",
    "grupo_procedencia_pt = {k: [int(np.floor(v / numero_turmas)), int(np.ceil(v / numero_turmas))] for k, v in grupo_procedencia.items()}\n",
    "grupo_idade_pt = {k: [int(np.floor(v / numero_turmas)), int(np.ceil(v / numero_turmas))] for k, v in grupo_idade.items()}\n",
    "\n",
    "print(f\"Sexo: {grupo_sexo}\")\n",
    "print(f\"Idade: {grupo_idade}\")\n",
    "print(f\"Procedencia: {grupo_procedencia}\")\n",
    "print(f\"Primeira letra: {grupo_pl}\\n\")\n",
    "\n",
    "print(grupo_sexo_pt)\n",
    "print(grupo_pl_pt)\n",
    "print(grupo_procedencia_pt)\n",
    "print(grupo_idade_pt)"
   ]
  },
  {
   "cell_type": "markdown",
   "id": "4d4f051e",
   "metadata": {},
   "source": [
    "## População inicial"
   ]
  },
  {
   "cell_type": "markdown",
   "id": "e4c1a583",
   "metadata": {},
   "source": [
    "Preparação da lista final de alunos que será usada pelo algoritmo genético para formar as turmas."
   ]
  },
  {
   "cell_type": "code",
   "execution_count": 15,
   "id": "38e9247b",
   "metadata": {},
   "outputs": [],
   "source": [
    "alunos_tuplas = list(df.itertuples(index=False,name='Aluno'))\n",
    "\n",
    "# Completa a lista com None, representando cadeiras vazias nas turmas\n",
    "lista_completa_alunos = list(chain(\n",
    "    alunos_tuplas,\n",
    "    repeat(None, ocupacao_total_turmas - len(alunos_tuplas))\n",
    "))"
   ]
  },
  {
   "cell_type": "markdown",
   "id": "b7082041",
   "metadata": {},
   "source": [
    "Criação da população inicial para o algoritmo genético — ou seja, os primeiros candidatos à solução de enturmação."
   ]
  },
  {
   "cell_type": "code",
   "execution_count": 16,
   "id": "5ff2c7a2",
   "metadata": {},
   "outputs": [
    {
     "name": "stdout",
     "output_type": "stream",
     "text": [
      "[55, 112, 27, 50, 0, 106, 98, 89, 69, 118, 85, 81, 35, 70, 74, 32, 119, 103, 42, 1, 41, 75, 25, 45, 6, 54, 101, 39, 68, 90, 80, 116, 92, 33, 71, 83, 20, 93, 114, 99, 19, 13, 57, 109, 40, 62, 7, 53, 91, 94, 107, 59, 16, 37, 34, 102, 56, 8, 38, 84, 76, 43, 9, 23, 4, 49, 61, 67, 58, 60, 105, 26, 104, 77, 3, 5, 10, 79, 73, 2, 100, 17, 108, 11, 51, 95, 48, 110, 31, 82, 18, 29, 64, 113, 46, 14, 30, 87, 52, 22, 28, 12, 86, 24, 111, 72, 115, 66, 47, 15, 96, 44, 117, 63, 78, 97, 36, 88, 65, 21]\n",
      "[100, 24, 83, 103, 35, 26, 51, 11, 17, 0, 111, 33, 19, 95, 8, 49, 109, 23, 76, 89, 114, 79, 7, 64, 54, 52, 74, 55, 57, 87, 70, 50, 27, 2, 15, 10, 71, 44, 108, 68, 42, 56, 101, 13, 40, 20, 96, 58, 112, 5, 72, 25, 117, 43, 97, 36, 30, 102, 66, 60, 37, 91, 116, 94, 67, 98, 34, 22, 77, 53, 3, 12, 46, 16, 69, 41, 115, 86, 9, 99, 38, 59, 88, 84, 18, 47, 4, 80, 104, 21, 78, 63, 48, 31, 6, 32, 105, 1, 75, 39, 90, 85, 14, 107, 113, 92, 110, 118, 119, 61, 29, 45, 62, 28, 106, 65, 93, 82, 73, 81]\n",
      "[58, 59, 3, 106, 42, 68, 85, 73, 104, 4, 16, 36, 19, 37, 70, 57, 29, 113, 35, 0, 20, 100, 81, 114, 6, 32, 51, 63, 72, 15, 75, 110, 109, 97, 87, 13, 74, 39, 30, 105, 23, 79, 66, 1, 78, 77, 82, 34, 67, 31, 14, 50, 76, 28, 46, 119, 99, 95, 61, 52, 96, 8, 53, 80, 108, 88, 5, 83, 48, 93, 60, 86, 49, 64, 112, 41, 118, 94, 117, 101, 11, 33, 102, 26, 55, 111, 71, 84, 27, 12, 89, 107, 10, 22, 62, 17, 92, 98, 54, 47, 115, 18, 69, 116, 9, 25, 24, 43, 40, 38, 45, 103, 7, 65, 90, 2, 21, 91, 56, 44]\n",
      "[7, 35, 37, 1, 27, 119, 71, 117, 115, 87, 15, 104, 76, 96, 21, 0, 40, 91, 3, 94, 110, 65, 101, 99, 4, 59, 105, 85, 39, 18, 5, 68, 10, 12, 61, 78, 29, 103, 107, 31, 11, 75, 16, 50, 79, 72, 52, 112, 109, 51, 53, 19, 74, 30, 55, 88, 80, 90, 118, 116, 81, 48, 42, 86, 92, 60, 9, 89, 83, 14, 69, 73, 20, 38, 41, 44, 34, 36, 2, 111, 32, 58, 113, 64, 57, 102, 47, 45, 67, 13, 6, 33, 24, 49, 43, 93, 84, 56, 95, 66, 82, 114, 26, 22, 98, 77, 23, 17, 106, 8, 46, 100, 70, 63, 108, 97, 54, 62, 28, 25]\n"
     ]
    }
   ],
   "source": [
    "individuo1 = list(range(0, ocupacao_total_turmas))\n",
    "individuo2 = list(range(0, ocupacao_total_turmas))\n",
    "individuo3 = list(range(0, ocupacao_total_turmas))\n",
    "individuo4 = list(range(0, ocupacao_total_turmas))\n",
    "random.shuffle(individuo1)\n",
    "random.shuffle(individuo2)\n",
    "random.shuffle(individuo3)\n",
    "random.shuffle(individuo4)\n",
    "\n",
    "print(individuo1)\n",
    "print(individuo2)\n",
    "print(individuo3)\n",
    "print(individuo4)\n",
    "\n",
    "initial_population = [individuo1, individuo2, individuo3, individuo4]"
   ]
  },
  {
   "cell_type": "markdown",
   "id": "f27c1209",
   "metadata": {},
   "source": [
    "Definindo a função de avaliação (fitness) do algoritmo genético —\n",
    "\n",
    "Medindo quão boa é cada solução, com base no quanto ela respeita os limites de diversidade definidos anteriormente."
   ]
  },
  {
   "cell_type": "code",
   "execution_count": null,
   "id": "3ce0c405",
   "metadata": {},
   "outputs": [],
   "source": [
    "def calcula_penalidades(alunos_turma, sexo_pt, pl_pt, procedencia_pt, idade_pt):\n",
    "    qtd_sexo = Counter([aluno.Sexo for aluno in alunos_turma])\n",
    "    qtd_letras = Counter([aluno.PrimeiraLetra for aluno in alunos_turma])\n",
    "    qtd_procedencia = Counter([aluno.Procedencia for aluno in alunos_turma])\n",
    "    qtd_idade = Counter([aluno.Idade for aluno in alunos_turma])        \n",
    "    return [calcula_penalidade(qtd_sexo, sexo_pt), calcula_penalidade(qtd_letras, pl_pt), calcula_penalidade(qtd_procedencia, procedencia_pt), calcula_penalidade(qtd_idade, idade_pt)]\n",
    "\n",
    "# Avaliando se uma turma está balanceada e retorna penalidades para cada uma das categorias\n",
    "\n",
    "def fitness_func(ga_instance, solution, solution_idx):\n",
    "    turmas_solution = np.reshape(solution, newshape=(numero_turmas, total_alunos_por_turma_distribuida))\n",
    "    penalidades_total = 0\n",
    "    for turma in turmas_solution:\n",
    "        alunos_turma = obtenha_alunos(lista_completa_alunos, turma)\n",
    "        penalidades = np.sum(calcula_penalidades(alunos_turma, grupo_sexo_pt, grupo_pl_pt, grupo_procedencia_pt, grupo_idade_pt))\n",
    "        penalidades_total += penalidades\n",
    "    return 1 / penalidades_total\n",
    "\n",
    "# Avalia a qualidade da solução. Quanto menor a penalidade retornada melhor é a solução"
   ]
  },
  {
   "cell_type": "markdown",
   "id": "d1627e68",
   "metadata": {},
   "source": [
    "| `penalidades_total` | `1 / penalidades_total` | Interpretação                  |\n",
    "|---------------------|--------------------------|--------------------------------|\n",
    "| 1                   | 1.00                     | Excelente (penalidade baixa)  |\n",
    "| 5                   | 0.20                     | Razoável                       |\n",
    "| 20                  | 0.05                     | Ruim (muitas penalidades)     |\n"
   ]
  },
  {
   "cell_type": "markdown",
   "id": "cb528cb1",
   "metadata": {},
   "source": [
    "Configuração dos parâmetros do algoritmo genético pygad, controlando como as soluções evoluem ao longo das gerações."
   ]
  },
  {
   "cell_type": "code",
   "execution_count": null,
   "id": "abfbc048",
   "metadata": {},
   "outputs": [],
   "source": [
    "# Numero de gerações que o algoritmo irá executar\n",
    "num_generations = 150000\n",
    "\n",
    "# Numero de pais selecionados para cada geração\n",
    "num_parents_mating = 2\n",
    "\n",
    "# Numero de indivíduos por população\n",
    "sol_per_pop = 2\n",
    "# Parametros de genes por indivíduo\n",
    "num_genes = ocupacao_total_turmas\n",
    "init_range_low = 0\n",
    "init_range_high = ocupacao_total_turmas\n",
    "gene_space = [i for i in range(0, ocupacao_total_turmas)]\n",
    "\n",
    "# Tipo da seleção dos pais.\n",
    "parent_selection_type = \"rank\"\n",
    "keep_parents = 2 \n",
    "\n",
    "# Tipo do cruzamento.\n",
    "crossover_type = \"single_point\" \n",
    "\n",
    "# Parametros de mutação\n",
    "mutation_type = \"swap\" \n",
    "mutation_percent_genes = 20\n"
   ]
  },
  {
   "cell_type": "markdown",
   "id": "d298d016",
   "metadata": {},
   "source": [
    "Executa o algoritmo genético com a biblioteca pygad e exibe a evolução da qualidade das soluções ao longo das gerações."
   ]
  },
  {
   "cell_type": "code",
   "execution_count": 28,
   "id": "04489ace",
   "metadata": {},
   "outputs": [
    {
     "name": "stderr",
     "output_type": "stream",
     "text": [
      "c:\\Users\\JuninhoDRZ\\AppData\\Local\\Programs\\Python\\Python39\\lib\\site-packages\\pygad\\visualize\\plot.py:120: UserWarning: No artists with labels found to put in legend.  Note that artists whose label start with an underscore are ignored when legend() is called with no argument.\n",
      "  matplt.legend()\n"
     ]
    },
    {
     "data": {
      "image/png": "[encoded data removed]",
      "text/plain": [
       "<Figure size 640x480 with 1 Axes>"
      ]
     },
     "metadata": {},
     "output_type": "display_data"
    },
    {
     "data": {
      "image/png": "[encoded data removed]",
      "text/plain": [
       "<Figure size 640x480 with 1 Axes>"
      ]
     },
     "execution_count": 28,
     "metadata": {},
     "output_type": "execute_result"
    }
   ],
   "source": [
    "ga_instance = pygad.GA(num_generations=num_generations,\n",
    "                       num_parents_mating=num_parents_mating,\n",
    "                       sol_per_pop=sol_per_pop,\n",
    "                       num_genes=num_genes,\n",
    "                       initial_population=initial_population,\n",
    "                       gene_space = gene_space,\n",
    "                       fitness_func=fitness_func,\n",
    "                       parent_selection_type=parent_selection_type,\n",
    "                       keep_parents=keep_parents,\n",
    "                       crossover_type=crossover_type,\n",
    "                       mutation_type=mutation_type,\n",
    "                       mutation_percent_genes=mutation_percent_genes,\n",
    "                       allow_duplicate_genes=False,\n",
    "                       gene_type=int)\n",
    "\n",
    "ga_instance.run()\n",
    "\n",
    "ga_instance.plot_fitness()"
   ]
  },
  {
   "cell_type": "markdown",
   "id": "efc39dd5",
   "metadata": {},
   "source": [
    "| Fitness | Penalidades totais | Interpretação                  |\n",
    "|---------|---------------------|--------------------------------|\n",
    "| 1.0     | 1                   | Excelente (quase ideal)        |\n",
    "| 0.5     | 2                   | Muito bom (poucas penalidades) |\n",
    "| < 0.1   | ≥ 10                | Ruim (muitas penalidades)      |"
   ]
  },
  {
   "cell_type": "markdown",
   "id": "0b8212aa",
   "metadata": {},
   "source": [
    "PyGAD - Generation vs. Fitness\n",
    "\n",
    "Curva crescente: Mostrando a melhoria do algoritmo.\n",
    "\n",
    "Plateaus: trechos onde o algoritmo parou de melhorar por algumas gerações, bastante comum até encontrar uma nova combinação favorável.\n",
    "\n",
    "A evolução mostra que foi necessário um grande número de gerações (cerca de 150 mil) para atingir o melhor resultado observado."
   ]
  },
  {
   "cell_type": "markdown",
   "id": "6a0ff58e",
   "metadata": {},
   "source": [
    " Pega a melhor solução encontrada pelo algoritmo genético e a converte em uma estrutura representando as turmas."
   ]
  },
  {
   "cell_type": "code",
   "execution_count": 20,
   "id": "90e89c38",
   "metadata": {},
   "outputs": [],
   "source": [
    "individuo = ga_instance.best_solution()[0]\n",
    "turmas = np.reshape(individuo, newshape=(numero_turmas, total_alunos_por_turma_distribuida))"
   ]
  },
  {
   "cell_type": "markdown",
   "id": "6f7baebd",
   "metadata": {},
   "source": [
    "Coleta estatísticas por turma com base na distribuição de alunos, após a otimização com algoritmo genético."
   ]
  },
  {
   "cell_type": "code",
   "execution_count": 21,
   "id": "8c28f261",
   "metadata": {},
   "outputs": [],
   "source": [
    "lst_sexo = []\n",
    "lst_letras = []\n",
    "lst_idade = []\n",
    "lst_procedencia = []\n",
    "\n",
    "indice_turma = 1\n",
    "for turma in turmas:\n",
    "    alunos_turma = obtenha_alunos(lista_completa_alunos, turma)\n",
    "    qtd_letras = Counter([aluno.PrimeiraLetra for aluno in alunos_turma])\n",
    "    qtd_sexo = Counter([aluno.Sexo for aluno in alunos_turma])\n",
    "    qtd_procedencia = Counter([aluno.Procedencia for aluno in alunos_turma])\n",
    "    qtd_idade = Counter([aluno.Idade for aluno in alunos_turma])\n",
    "    for k in qtd_sexo:\n",
    "        lst_sexo.append({'Turma': indice_turma, 'Sexo': k, 'Quantidade': qtd_sexo[k]})\n",
    "    for k in qtd_letras:\n",
    "        lst_letras.append({'Turma': indice_turma, 'Letra': k, 'Quantidade': qtd_letras[k]})\n",
    "    for k in qtd_idade:\n",
    "        lst_idade.append({'Turma': indice_turma, 'Idade': k, 'Quantidade': qtd_idade[k]})\n",
    "    for k in qtd_procedencia:\n",
    "        lst_procedencia.append({'Turma': indice_turma, 'Procedencia': k, 'Quantidade': qtd_procedencia[k]})\n",
    "\n",
    "    indice_turma += 1"
   ]
  },
  {
   "cell_type": "markdown",
   "id": "dc7d5840",
   "metadata": {},
   "source": [
    "## Gera um gráfico de barras agrupadas por sexo e turma, utilizando seaborn e matplotlib."
   ]
  },
  {
   "cell_type": "code",
   "execution_count": 22,
   "id": "8191b19c",
   "metadata": {},
   "outputs": [
    {
     "data": {
      "image/png": "[encoded data removed]",
      "text/plain": [
       "<Figure size 1800x800 with 1 Axes>"
      ]
     },
     "metadata": {},
     "output_type": "display_data"
    }
   ],
   "source": [
    "plt.figure(figsize=(18, 8))\n",
    "df_sexo = pd.DataFrame(data=lst_sexo)\n",
    "ax = sns.barplot(x = 'Sexo', y = 'Quantidade', hue = 'Turma', data = df_sexo, palette='dark:crimson')\n",
    "for container in ax.containers:\n",
    "    ax.bar_label(container)"
   ]
  },
  {
   "cell_type": "markdown",
   "id": "f4e0543c",
   "metadata": {},
   "source": [
    "Todas as turmas têm entre 8 e 9 alunas do sexo feminino.\n",
    "Todas as turmas têm entre 15 e 16 alunos do sexo masculino.\n",
    "\n",
    "A distribuição está razoavelmente equilibrada entre as turmas, sugerindo que o algoritmo genético buscou essa homogeneidade."
   ]
  },
  {
   "cell_type": "markdown",
   "id": "ae7eeb9d",
   "metadata": {},
   "source": [
    "## Gera um gráfico de barras que mostra a distribuição de alunos por primeira letra do nome, segmentada por turma."
   ]
  },
  {
   "cell_type": "code",
   "execution_count": 23,
   "id": "bba2b263",
   "metadata": {},
   "outputs": [
    {
     "data": {
      "image/png": "[encoded data removed]",
      "text/plain": [
       "<Figure size 1800x800 with 1 Axes>"
      ]
     },
     "metadata": {},
     "output_type": "display_data"
    }
   ],
   "source": [
    "plt.figure(figsize=(18, 8))\n",
    "df_letras = pd.DataFrame(data=lst_letras)\n",
    "df_letras.sort_values(by=['Letra'], inplace=True)\n",
    "ax = sns.barplot(x = 'Letra', y = 'Quantidade', hue = 'Turma', data = df_letras, palette='dark:crimson')\n",
    "for container in ax.containers:\n",
    "    ax.bar_label(container)"
   ]
  },
  {
   "cell_type": "markdown",
   "id": "0cdac5bb",
   "metadata": {},
   "source": [
    "As turmas estão bem balanceadas em relação às iniciais dos nomes.\n",
    "\n",
    "Exemplo: A letra \"M\" tem 4 alunos nas turmas 1 e 2, e 3 nas outras, mostrando distribuição homogênea.\n",
    "\n",
    "Poucas letras têm concentração em apenas uma turma (ex: letra \"O\", \"R\")."
   ]
  },
  {
   "cell_type": "markdown",
   "id": "e43741a1",
   "metadata": {},
   "source": [
    "## Gera um gráfico que representa a distribuição da idade dos alunos por turma."
   ]
  },
  {
   "cell_type": "code",
   "execution_count": 24,
   "id": "4fec4ec1",
   "metadata": {},
   "outputs": [
    {
     "data": {
      "image/png": "[encoded data removed]",
      "text/plain": [
       "<Figure size 1800x800 with 1 Axes>"
      ]
     },
     "metadata": {},
     "output_type": "display_data"
    }
   ],
   "source": [
    "plt.figure(figsize=(18, 8))\n",
    "df_idade = pd.DataFrame(data=lst_idade)\n",
    "df_idade.sort_values(by=['Idade'], inplace=True)\n",
    "ax = sns.barplot(x = 'Idade', y = 'Quantidade', hue = 'Turma', data = df_idade, palette='dark:crimson')\n",
    "for container in ax.containers:\n",
    "    ax.bar_label(container)"
   ]
  },
  {
   "cell_type": "markdown",
   "id": "81efdd20",
   "metadata": {},
   "source": [
    "Idade 11: É a mais frequente, com 16–17 alunos por turma, indicando bom equilíbrio e que a maioria dos alunos tem essa idade.\n",
    "\n",
    "Idade 12: Está razoavelmente distribuída, com 6–7 alunos por turma.\n",
    "\n",
    "Idades 9 e 10: Têm ocorrência pontual (apenas 1 aluno por idade em algumas turmas), indicando exceções."
   ]
  },
  {
   "cell_type": "markdown",
   "id": "6b1ebd21",
   "metadata": {},
   "source": [
    "## Gera um gráfico de barras agrupadas que mostra a quantidade de alunos por Procedência em cada Turma."
   ]
  },
  {
   "cell_type": "code",
   "execution_count": 25,
   "id": "74df72ab",
   "metadata": {},
   "outputs": [
    {
     "data": {
      "image/png": "[encoded data removed]",
      "text/plain": [
       "<Figure size 1800x800 with 1 Axes>"
      ]
     },
     "metadata": {},
     "output_type": "display_data"
    }
   ],
   "source": [
    "plt.figure(figsize=(18, 8))\n",
    "df_procedencia = pd.DataFrame(data=lst_procedencia)\n",
    "df_procedencia.sort_values(by=['Procedencia'], inplace=True)\n",
    "ax = sns.barplot(x = 'Procedencia', y = 'Quantidade', hue = 'Turma', data = df_procedencia, palette='dark:crimson')\n",
    "for container in ax.containers:\n",
    "    ax.bar_label(container)"
   ]
  },
  {
   "cell_type": "markdown",
   "id": "a2626e06",
   "metadata": {},
   "source": [
    "Procedência 368 domina, com 14 a 15 alunos em cada turma — muito equilibrado.\n",
    "\n",
    "Outras procedências como 254, 501446, 289 aparecem pontualmente.\n",
    "\n",
    "Diversidade de procedências foi bem distribuída entre as turmas — um dos objetivos do algoritmo genético."
   ]
  },
  {
   "cell_type": "markdown",
   "id": "14ec8d4a",
   "metadata": {},
   "source": [
    "# Conclusão\n",
    "\n",
    "O projeto mostra que os algoritmos geneticos podem resolver problemas humanos, economizando tempo e garantindo a justiça.\n",
    "\n",
    " A mesma técnica pode ser usada para escalar equipes, dividir salas em eventos ou montar grupos escolares automaticamente."
   ]
  }
 ],
 "metadata": {
  "kernelspec": {
   "display_name": "Python 3",
   "language": "python",
   "name": "python3"
  },
  "language_info": {
   "codemirror_mode": {
    "name": "ipython",
    "version": 3
   },
   "file_extension": ".py",
   "mimetype": "text/x-python",
   "name": "python",
   "nbconvert_exporter": "python",
   "pygments_lexer": "ipython3",
   "version": "3.9.13"
  }
 },
 "nbformat": 4,
 "nbformat_minor": 5
}
