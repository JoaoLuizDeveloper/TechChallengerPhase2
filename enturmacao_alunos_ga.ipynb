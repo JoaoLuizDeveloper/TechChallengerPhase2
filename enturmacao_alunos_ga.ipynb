{
 "cells": [
  {
   "cell_type": "markdown",
   "id": "5e8b8b05",
   "metadata": {},
   "source": [
    "# Algoritimo Genético"
   ]
  },
  {
   "cell_type": "markdown",
   "id": "9001673f",
   "metadata": {},
   "source": [
    "# 1. Introdução\n",
    "\n",
    "Olá! Meu nome é joão luiz, integrante do Grupo 30 da pos graduação IA para Devs 2025.\n",
    "\n",
    "Na Fase 2 Apresento esse projeto de Algoritimo Genético focado em distribuir alunos em turmas, buscando o equilíbrio de atributos como:\n",
    "\n",
    "Primeira letra do nome (PrimeiraLetra)\n",
    "Procedência (Procedencia)\n",
    "Sexo (Sexo)\n",
    "Idade (Idade)\n",
    "\n",
    "\n",
    "```\n",
    "Edher                - RM361040\n",
    "Yago Marialva        - RM361884\n",
    "João Sá              - RM363107\n",
    "Franclin             - RM364871\n",
    "Pavão                - RM364496\n",
    "```"
   ]
  },
  {
   "cell_type": "markdown",
   "id": "91341538",
   "metadata": {},
   "source": [
    "## Importação biblioteca"
   ]
  },
  {
   "cell_type": "code",
   "execution_count": 3,
   "id": "86511090",
   "metadata": {},
   "outputs": [],
   "source": [
    "import numpy as np\n",
    "import pandas as pd\n",
    "import pygad\n",
    "from prettytable import PrettyTable\n",
    "\n",
    "from itertools import repeat, chain\n",
    "from collections import defaultdict, Counter\n",
    "import random\n",
    "\n",
    "# Visualização de dados\n",
    "import matplotlib.pyplot as plt\n",
    "import seaborn as sns\n",
    "\n",
    "sns.set_theme(style=\"white\", palette=None)\n",
    "\n",
    "from ga import obtenha_alunos\n",
    "from ga import calcula_penalidade\n"
   ]
  },
  {
   "cell_type": "markdown",
   "id": "6f182d38",
   "metadata": {},
   "source": [
    "## Preparação dos dados"
   ]
  },
  {
   "cell_type": "markdown",
   "id": "0e65c479",
   "metadata": {},
   "source": [
    "\n",
    "Leitura de arquivo de informações iniciais que se pode encontrar:"
   ]
  },
  {
   "cell_type": "code",
   "execution_count": 4,
   "id": "c1fc8bb6",
   "metadata": {},
   "outputs": [
    {
     "name": "stdout",
     "output_type": "stream",
     "text": [
      "Total de alunos: 119\n",
      "Quantidade de turmas: 5\n",
      "Quantidade de alunos por turma: 24\n",
      "Ocupação turmas: 120\n",
      "Ocupação máxima total: 125\n"
     ]
    }
   ],
   "source": [
    "df = pd.read_csv('alunos.csv')\n",
    "\n",
    "maximo_alunos_por_turma = 25 #Esse é a proporção ideal para que uma turma não fique completamente cheia e que permita depois novos alunos poderão ser enturmados\n",
    "total_alunos = df.Nome.count()\n",
    "numero_turmas = int(np.ceil(total_alunos / maximo_alunos_por_turma))\n",
    "total_alunos_por_turma_distribuida = int(np.ceil(total_alunos / numero_turmas))\n",
    "ocupacao_maxima = int(numero_turmas * maximo_alunos_por_turma) #Esse é o número máximo de alunos se todas as turmas estivessem preenchidas com o máximo permitido\n",
    "ocupacao_total_turmas = total_alunos_por_turma_distribuida * numero_turmas\n",
    "\n",
    "print(f\"Total de alunos: {total_alunos}\")\n",
    "print(f\"Quantidade de turmas: {numero_turmas}\")\n",
    "print(f\"Quantidade de alunos por turma: {total_alunos_por_turma_distribuida}\") \n",
    "print(f\"Ocupação turmas: {ocupacao_total_turmas}\") \n",
    "print(f\"Ocupação máxima total: {ocupacao_maxima}\")"
   ]
  },
  {
   "cell_type": "markdown",
   "id": "b1556b35",
   "metadata": {},
   "source": [
    "### Uma análise para cada restrição\n",
    "\n",
    "Organizando alunos pela primeira letra do nome, e calculando quantas turmas precisam ter alunos com essa letra."
   ]
  },
  {
   "cell_type": "code",
   "execution_count": 5,
   "id": "8f456dfb",
   "metadata": {},
   "outputs": [
    {
     "data": {
      "text/html": [
       "<div>\n",
       "<style scoped>\n",
       "    .dataframe tbody tr th:only-of-type {\n",
       "        vertical-align: middle;\n",
       "    }\n",
       "\n",
       "    .dataframe tbody tr th {\n",
       "        vertical-align: top;\n",
       "    }\n",
       "\n",
       "    .dataframe thead th {\n",
       "        text-align: right;\n",
       "    }\n",
       "</style>\n",
       "<table border=\"1\" class=\"dataframe\">\n",
       "  <thead>\n",
       "    <tr style=\"text-align: right;\">\n",
       "      <th></th>\n",
       "      <th>PrimeiraLetra</th>\n",
       "      <th>Contagem</th>\n",
       "      <th>MinimoTurma</th>\n",
       "      <th>MaximoTurma</th>\n",
       "    </tr>\n",
       "  </thead>\n",
       "  <tbody>\n",
       "    <tr>\n",
       "      <th>0</th>\n",
       "      <td>A</td>\n",
       "      <td>10</td>\n",
       "      <td>2.0</td>\n",
       "      <td>2.0</td>\n",
       "    </tr>\n",
       "    <tr>\n",
       "      <th>1</th>\n",
       "      <td>B</td>\n",
       "      <td>4</td>\n",
       "      <td>0.0</td>\n",
       "      <td>1.0</td>\n",
       "    </tr>\n",
       "    <tr>\n",
       "      <th>2</th>\n",
       "      <td>C</td>\n",
       "      <td>7</td>\n",
       "      <td>1.0</td>\n",
       "      <td>2.0</td>\n",
       "    </tr>\n",
       "    <tr>\n",
       "      <th>3</th>\n",
       "      <td>D</td>\n",
       "      <td>8</td>\n",
       "      <td>1.0</td>\n",
       "      <td>2.0</td>\n",
       "    </tr>\n",
       "    <tr>\n",
       "      <th>4</th>\n",
       "      <td>E</td>\n",
       "      <td>5</td>\n",
       "      <td>1.0</td>\n",
       "      <td>1.0</td>\n",
       "    </tr>\n",
       "    <tr>\n",
       "      <th>5</th>\n",
       "      <td>F</td>\n",
       "      <td>5</td>\n",
       "      <td>1.0</td>\n",
       "      <td>1.0</td>\n",
       "    </tr>\n",
       "    <tr>\n",
       "      <th>6</th>\n",
       "      <td>G</td>\n",
       "      <td>8</td>\n",
       "      <td>1.0</td>\n",
       "      <td>2.0</td>\n",
       "    </tr>\n",
       "    <tr>\n",
       "      <th>7</th>\n",
       "      <td>H</td>\n",
       "      <td>11</td>\n",
       "      <td>2.0</td>\n",
       "      <td>3.0</td>\n",
       "    </tr>\n",
       "    <tr>\n",
       "      <th>8</th>\n",
       "      <td>I</td>\n",
       "      <td>4</td>\n",
       "      <td>0.0</td>\n",
       "      <td>1.0</td>\n",
       "    </tr>\n",
       "    <tr>\n",
       "      <th>9</th>\n",
       "      <td>J</td>\n",
       "      <td>10</td>\n",
       "      <td>2.0</td>\n",
       "      <td>2.0</td>\n",
       "    </tr>\n",
       "    <tr>\n",
       "      <th>10</th>\n",
       "      <td>K</td>\n",
       "      <td>1</td>\n",
       "      <td>0.0</td>\n",
       "      <td>1.0</td>\n",
       "    </tr>\n",
       "    <tr>\n",
       "      <th>11</th>\n",
       "      <td>L</td>\n",
       "      <td>15</td>\n",
       "      <td>3.0</td>\n",
       "      <td>3.0</td>\n",
       "    </tr>\n",
       "    <tr>\n",
       "      <th>12</th>\n",
       "      <td>M</td>\n",
       "      <td>17</td>\n",
       "      <td>3.0</td>\n",
       "      <td>4.0</td>\n",
       "    </tr>\n",
       "    <tr>\n",
       "      <th>13</th>\n",
       "      <td>O</td>\n",
       "      <td>1</td>\n",
       "      <td>0.0</td>\n",
       "      <td>1.0</td>\n",
       "    </tr>\n",
       "    <tr>\n",
       "      <th>14</th>\n",
       "      <td>P</td>\n",
       "      <td>5</td>\n",
       "      <td>1.0</td>\n",
       "      <td>1.0</td>\n",
       "    </tr>\n",
       "    <tr>\n",
       "      <th>15</th>\n",
       "      <td>R</td>\n",
       "      <td>1</td>\n",
       "      <td>0.0</td>\n",
       "      <td>1.0</td>\n",
       "    </tr>\n",
       "    <tr>\n",
       "      <th>16</th>\n",
       "      <td>T</td>\n",
       "      <td>3</td>\n",
       "      <td>0.0</td>\n",
       "      <td>1.0</td>\n",
       "    </tr>\n",
       "    <tr>\n",
       "      <th>17</th>\n",
       "      <td>V</td>\n",
       "      <td>3</td>\n",
       "      <td>0.0</td>\n",
       "      <td>1.0</td>\n",
       "    </tr>\n",
       "    <tr>\n",
       "      <th>18</th>\n",
       "      <td>Y</td>\n",
       "      <td>1</td>\n",
       "      <td>0.0</td>\n",
       "      <td>1.0</td>\n",
       "    </tr>\n",
       "  </tbody>\n",
       "</table>\n",
       "</div>"
      ],
      "text/plain": [
       "   PrimeiraLetra  Contagem  MinimoTurma  MaximoTurma\n",
       "0              A        10          2.0          2.0\n",
       "1              B         4          0.0          1.0\n",
       "2              C         7          1.0          2.0\n",
       "3              D         8          1.0          2.0\n",
       "4              E         5          1.0          1.0\n",
       "5              F         5          1.0          1.0\n",
       "6              G         8          1.0          2.0\n",
       "7              H        11          2.0          3.0\n",
       "8              I         4          0.0          1.0\n",
       "9              J        10          2.0          2.0\n",
       "10             K         1          0.0          1.0\n",
       "11             L        15          3.0          3.0\n",
       "12             M        17          3.0          4.0\n",
       "13             O         1          0.0          1.0\n",
       "14             P         5          1.0          1.0\n",
       "15             R         1          0.0          1.0\n",
       "16             T         3          0.0          1.0\n",
       "17             V         3          0.0          1.0\n",
       "18             Y         1          0.0          1.0"
      ]
     },
     "execution_count": 5,
     "metadata": {},
     "output_type": "execute_result"
    }
   ],
   "source": [
    "df_agrupado_primeira_letra = df.groupby('PrimeiraLetra')['PrimeiraLetra'].agg([\n",
    "    ('Contagem', 'count'),\n",
    "    ('MinimoTurma', lambda x: np.floor(x.count() / numero_turmas)),\n",
    "    ('MaximoTurma', lambda x: np.ceil(x.count() / numero_turmas)),\n",
    "]).reset_index()\n",
    "df_agrupado_primeira_letra"
   ]
  },
  {
   "cell_type": "markdown",
   "id": "eaf9f030",
   "metadata": {},
   "source": [
    "Organizando alunos pela procedencia, ou seja, pela origem dos alunos (por exemplo: escola anterior, cidade, etc.)."
   ]
  },
  {
   "cell_type": "code",
   "execution_count": 6,
   "id": "012f9644",
   "metadata": {},
   "outputs": [
    {
     "data": {
      "text/html": [
       "<div>\n",
       "<style scoped>\n",
       "    .dataframe tbody tr th:only-of-type {\n",
       "        vertical-align: middle;\n",
       "    }\n",
       "\n",
       "    .dataframe tbody tr th {\n",
       "        vertical-align: top;\n",
       "    }\n",
       "\n",
       "    .dataframe thead th {\n",
       "        text-align: right;\n",
       "    }\n",
       "</style>\n",
       "<table border=\"1\" class=\"dataframe\">\n",
       "  <thead>\n",
       "    <tr style=\"text-align: right;\">\n",
       "      <th></th>\n",
       "      <th>Procedencia</th>\n",
       "      <th>Contagem</th>\n",
       "      <th>MinimoTurma</th>\n",
       "      <th>MaximoTurma</th>\n",
       "    </tr>\n",
       "  </thead>\n",
       "  <tbody>\n",
       "    <tr>\n",
       "      <th>0</th>\n",
       "      <td>1</td>\n",
       "      <td>2</td>\n",
       "      <td>0.0</td>\n",
       "      <td>1.0</td>\n",
       "    </tr>\n",
       "    <tr>\n",
       "      <th>1</th>\n",
       "      <td>132</td>\n",
       "      <td>2</td>\n",
       "      <td>0.0</td>\n",
       "      <td>1.0</td>\n",
       "    </tr>\n",
       "    <tr>\n",
       "      <th>2</th>\n",
       "      <td>254</td>\n",
       "      <td>8</td>\n",
       "      <td>1.0</td>\n",
       "      <td>2.0</td>\n",
       "    </tr>\n",
       "    <tr>\n",
       "      <th>3</th>\n",
       "      <td>289</td>\n",
       "      <td>5</td>\n",
       "      <td>1.0</td>\n",
       "      <td>1.0</td>\n",
       "    </tr>\n",
       "    <tr>\n",
       "      <th>4</th>\n",
       "      <td>368</td>\n",
       "      <td>74</td>\n",
       "      <td>14.0</td>\n",
       "      <td>15.0</td>\n",
       "    </tr>\n",
       "    <tr>\n",
       "      <th>5</th>\n",
       "      <td>380</td>\n",
       "      <td>1</td>\n",
       "      <td>0.0</td>\n",
       "      <td>1.0</td>\n",
       "    </tr>\n",
       "    <tr>\n",
       "      <th>6</th>\n",
       "      <td>385</td>\n",
       "      <td>2</td>\n",
       "      <td>0.0</td>\n",
       "      <td>1.0</td>\n",
       "    </tr>\n",
       "    <tr>\n",
       "      <th>7</th>\n",
       "      <td>31577</td>\n",
       "      <td>2</td>\n",
       "      <td>0.0</td>\n",
       "      <td>1.0</td>\n",
       "    </tr>\n",
       "    <tr>\n",
       "      <th>8</th>\n",
       "      <td>32342</td>\n",
       "      <td>1</td>\n",
       "      <td>0.0</td>\n",
       "      <td>1.0</td>\n",
       "    </tr>\n",
       "    <tr>\n",
       "      <th>9</th>\n",
       "      <td>501263</td>\n",
       "      <td>1</td>\n",
       "      <td>0.0</td>\n",
       "      <td>1.0</td>\n",
       "    </tr>\n",
       "    <tr>\n",
       "      <th>10</th>\n",
       "      <td>501334</td>\n",
       "      <td>4</td>\n",
       "      <td>0.0</td>\n",
       "      <td>1.0</td>\n",
       "    </tr>\n",
       "    <tr>\n",
       "      <th>11</th>\n",
       "      <td>501421</td>\n",
       "      <td>1</td>\n",
       "      <td>0.0</td>\n",
       "      <td>1.0</td>\n",
       "    </tr>\n",
       "    <tr>\n",
       "      <th>12</th>\n",
       "      <td>501446</td>\n",
       "      <td>14</td>\n",
       "      <td>2.0</td>\n",
       "      <td>3.0</td>\n",
       "    </tr>\n",
       "    <tr>\n",
       "      <th>13</th>\n",
       "      <td>501503</td>\n",
       "      <td>1</td>\n",
       "      <td>0.0</td>\n",
       "      <td>1.0</td>\n",
       "    </tr>\n",
       "    <tr>\n",
       "      <th>14</th>\n",
       "      <td>501592</td>\n",
       "      <td>1</td>\n",
       "      <td>0.0</td>\n",
       "      <td>1.0</td>\n",
       "    </tr>\n",
       "  </tbody>\n",
       "</table>\n",
       "</div>"
      ],
      "text/plain": [
       "    Procedencia  Contagem  MinimoTurma  MaximoTurma\n",
       "0             1         2          0.0          1.0\n",
       "1           132         2          0.0          1.0\n",
       "2           254         8          1.0          2.0\n",
       "3           289         5          1.0          1.0\n",
       "4           368        74         14.0         15.0\n",
       "5           380         1          0.0          1.0\n",
       "6           385         2          0.0          1.0\n",
       "7         31577         2          0.0          1.0\n",
       "8         32342         1          0.0          1.0\n",
       "9        501263         1          0.0          1.0\n",
       "10       501334         4          0.0          1.0\n",
       "11       501421         1          0.0          1.0\n",
       "12       501446        14          2.0          3.0\n",
       "13       501503         1          0.0          1.0\n",
       "14       501592         1          0.0          1.0"
      ]
     },
     "execution_count": 6,
     "metadata": {},
     "output_type": "execute_result"
    }
   ],
   "source": [
    "df_agrupado_procedencia = df.groupby('Procedencia')['Procedencia'].agg([\n",
    "    ('Contagem', 'count'),\n",
    "    ('MinimoTurma', lambda x: np.floor(x.count() / numero_turmas)),\n",
    "    ('MaximoTurma', lambda x: np.ceil(x.count() / numero_turmas)),\n",
    "]).reset_index()\n",
    "df_agrupado_procedencia"
   ]
  },
  {
   "cell_type": "markdown",
   "id": "c163a7f7",
   "metadata": {},
   "source": [
    "Agrupamento por sexo dos alunos, com o mesmo objetivo: calcular os limites mínimo e máximo por turma, garantindo uma distribuição equilibrada de meninos e meninas."
   ]
  },
  {
   "cell_type": "code",
   "execution_count": 7,
   "id": "649d6ff8",
   "metadata": {},
   "outputs": [
    {
     "data": {
      "text/html": [
       "<div>\n",
       "<style scoped>\n",
       "    .dataframe tbody tr th:only-of-type {\n",
       "        vertical-align: middle;\n",
       "    }\n",
       "\n",
       "    .dataframe tbody tr th {\n",
       "        vertical-align: top;\n",
       "    }\n",
       "\n",
       "    .dataframe thead th {\n",
       "        text-align: right;\n",
       "    }\n",
       "</style>\n",
       "<table border=\"1\" class=\"dataframe\">\n",
       "  <thead>\n",
       "    <tr style=\"text-align: right;\">\n",
       "      <th></th>\n",
       "      <th>Sexo</th>\n",
       "      <th>Contagem</th>\n",
       "      <th>MinimoTurma</th>\n",
       "      <th>MaximoTurma</th>\n",
       "    </tr>\n",
       "  </thead>\n",
       "  <tbody>\n",
       "    <tr>\n",
       "      <th>0</th>\n",
       "      <td>F</td>\n",
       "      <td>43</td>\n",
       "      <td>8.0</td>\n",
       "      <td>9.0</td>\n",
       "    </tr>\n",
       "    <tr>\n",
       "      <th>1</th>\n",
       "      <td>M</td>\n",
       "      <td>76</td>\n",
       "      <td>15.0</td>\n",
       "      <td>16.0</td>\n",
       "    </tr>\n",
       "  </tbody>\n",
       "</table>\n",
       "</div>"
      ],
      "text/plain": [
       "  Sexo  Contagem  MinimoTurma  MaximoTurma\n",
       "0    F        43          8.0          9.0\n",
       "1    M        76         15.0         16.0"
      ]
     },
     "execution_count": 7,
     "metadata": {},
     "output_type": "execute_result"
    }
   ],
   "source": [
    "df_agrupado_sexo = df.groupby('Sexo')['Sexo'].agg([\n",
    "    ('Contagem', 'count'),\n",
    "    ('MinimoTurma', lambda x: np.floor(x.count() / numero_turmas)),\n",
    "    ('MaximoTurma', lambda x: np.ceil(x.count() / numero_turmas)),\n",
    "]).reset_index()\n",
    "df_agrupado_sexo"
   ]
  },
  {
   "cell_type": "markdown",
   "id": "951aac5b",
   "metadata": {},
   "source": [
    "Agrupa alunos por faixa etária (Idade) e calcula quantos devem ser alocados em cada turma, garantindo que alunos de uma mesma idade fiquem bem distribuídos."
   ]
  },
  {
   "cell_type": "code",
   "execution_count": 8,
   "id": "641d2620",
   "metadata": {},
   "outputs": [
    {
     "data": {
      "text/html": [
       "<div>\n",
       "<style scoped>\n",
       "    .dataframe tbody tr th:only-of-type {\n",
       "        vertical-align: middle;\n",
       "    }\n",
       "\n",
       "    .dataframe tbody tr th {\n",
       "        vertical-align: top;\n",
       "    }\n",
       "\n",
       "    .dataframe thead th {\n",
       "        text-align: right;\n",
       "    }\n",
       "</style>\n",
       "<table border=\"1\" class=\"dataframe\">\n",
       "  <thead>\n",
       "    <tr style=\"text-align: right;\">\n",
       "      <th></th>\n",
       "      <th>Contagem</th>\n",
       "      <th>MinimoTurma</th>\n",
       "      <th>MaximoTurma</th>\n",
       "    </tr>\n",
       "    <tr>\n",
       "      <th>Idade</th>\n",
       "      <th></th>\n",
       "      <th></th>\n",
       "      <th></th>\n",
       "    </tr>\n",
       "  </thead>\n",
       "  <tbody>\n",
       "    <tr>\n",
       "      <th>9</th>\n",
       "      <td>1</td>\n",
       "      <td>0.0</td>\n",
       "      <td>1.0</td>\n",
       "    </tr>\n",
       "    <tr>\n",
       "      <th>10</th>\n",
       "      <td>2</td>\n",
       "      <td>0.0</td>\n",
       "      <td>1.0</td>\n",
       "    </tr>\n",
       "    <tr>\n",
       "      <th>11</th>\n",
       "      <td>84</td>\n",
       "      <td>16.0</td>\n",
       "      <td>17.0</td>\n",
       "    </tr>\n",
       "    <tr>\n",
       "      <th>12</th>\n",
       "      <td>32</td>\n",
       "      <td>6.0</td>\n",
       "      <td>7.0</td>\n",
       "    </tr>\n",
       "  </tbody>\n",
       "</table>\n",
       "</div>"
      ],
      "text/plain": [
       "       Contagem  MinimoTurma  MaximoTurma\n",
       "Idade                                    \n",
       "9             1          0.0          1.0\n",
       "10            2          0.0          1.0\n",
       "11           84         16.0         17.0\n",
       "12           32          6.0          7.0"
      ]
     },
     "execution_count": 8,
     "metadata": {},
     "output_type": "execute_result"
    }
   ],
   "source": [
    "df_agrupado_idade = df.groupby('Idade')['Idade'].agg([\n",
    "    ('Contagem', 'count'),\n",
    "    ('MinimoTurma', lambda x: np.floor(x.count() / numero_turmas)),\n",
    "    ('MaximoTurma', lambda x: np.ceil(x.count() / numero_turmas)),\n",
    "])\n",
    "df_agrupado_idade"
   ]
  },
  {
   "cell_type": "markdown",
   "id": "960eb972",
   "metadata": {},
   "source": [
    "## Calculando os pisos e tetos para montar as penalidades com base nos mínimos e máximos de cada restrição"
   ]
  },
  {
   "cell_type": "markdown",
   "id": "34cc9a28",
   "metadata": {},
   "source": [
    "Prepara os limites de diversidade que serão usados pelo algoritmo genético. Ele transforma os dados agrupados em dicionários de referência, para orientar como os alunos devem ser distribuídos por turma."
   ]
  },
  {
   "cell_type": "code",
   "execution_count": 9,
   "id": "0cb8550d",
   "metadata": {},
   "outputs": [
    {
     "name": "stdout",
     "output_type": "stream",
     "text": [
      "Sexo: {'F': 43, 'M': 76}\n",
      "Idade: {9: 1, 10: 2, 11: 84, 12: 32}\n",
      "Procedencia: {1: 2, 132: 2, 254: 8, 289: 5, 368: 74, 380: 1, 385: 2, 31577: 2, 32342: 1, 501263: 1, 501334: 4, 501421: 1, 501446: 14, 501503: 1, 501592: 1}\n",
      "Primeira letra: {'A': 10, 'B': 4, 'C': 7, 'D': 8, 'E': 5, 'F': 5, 'G': 8, 'H': 11, 'I': 4, 'J': 10, 'K': 1, 'L': 15, 'M': 17, 'O': 1, 'P': 5, 'R': 1, 'T': 3, 'V': 3, 'Y': 1}\n",
      "\n",
      "{'F': [8, 9], 'M': [15, 16]}\n",
      "{'A': [2, 2], 'B': [0, 1], 'C': [1, 2], 'D': [1, 2], 'E': [1, 1], 'F': [1, 1], 'G': [1, 2], 'H': [2, 3], 'I': [0, 1], 'J': [2, 2], 'K': [0, 1], 'L': [3, 3], 'M': [3, 4], 'O': [0, 1], 'P': [1, 1], 'R': [0, 1], 'T': [0, 1], 'V': [0, 1], 'Y': [0, 1]}\n",
      "{1: [0, 1], 132: [0, 1], 254: [1, 2], 289: [1, 1], 368: [14, 15], 380: [0, 1], 385: [0, 1], 31577: [0, 1], 32342: [0, 1], 501263: [0, 1], 501334: [0, 1], 501421: [0, 1], 501446: [2, 3], 501503: [0, 1], 501592: [0, 1]}\n",
      "{9: [0, 1], 10: [0, 1], 11: [16, 17], 12: [6, 7]}\n"
     ]
    }
   ],
   "source": [
    "grupo_sexo = df.groupby('Sexo')['Sexo'].value_counts().to_dict()\n",
    "grupo_pl = df.groupby('PrimeiraLetra')['PrimeiraLetra'].value_counts().to_dict()\n",
    "grupo_procedencia = df.groupby('Procedencia')['Procedencia'].value_counts().to_dict()\n",
    "grupo_idade = df.groupby('Idade')['Idade'].value_counts().to_dict()\n",
    "\n",
    "grupo_sexo_pt = {k: [int(np.floor(v / numero_turmas)), int(np.ceil(v / numero_turmas))] for k, v in grupo_sexo.items()}\n",
    "grupo_pl_pt = {k: [int(np.floor(v / numero_turmas)), int(np.ceil(v / numero_turmas))] for k, v in grupo_pl.items()}\n",
    "grupo_procedencia_pt = {k: [int(np.floor(v / numero_turmas)), int(np.ceil(v / numero_turmas))] for k, v in grupo_procedencia.items()}\n",
    "grupo_idade_pt = {k: [int(np.floor(v / numero_turmas)), int(np.ceil(v / numero_turmas))] for k, v in grupo_idade.items()}\n",
    "\n",
    "print(f\"Sexo: {grupo_sexo}\")\n",
    "print(f\"Idade: {grupo_idade}\")\n",
    "print(f\"Procedencia: {grupo_procedencia}\")\n",
    "print(f\"Primeira letra: {grupo_pl}\\n\")\n",
    "\n",
    "print(grupo_sexo_pt)\n",
    "print(grupo_pl_pt)\n",
    "print(grupo_procedencia_pt)\n",
    "print(grupo_idade_pt)"
   ]
  },
  {
   "cell_type": "markdown",
   "id": "4d4f051e",
   "metadata": {},
   "source": [
    "## População inicial"
   ]
  },
  {
   "cell_type": "markdown",
   "id": "e4c1a583",
   "metadata": {},
   "source": [
    "Preparação da lista final de alunos que será usada pelo algoritmo genético para formar as turmas."
   ]
  },
  {
   "cell_type": "code",
   "execution_count": 10,
   "id": "38e9247b",
   "metadata": {},
   "outputs": [],
   "source": [
    "alunos_tuplas = list(df.itertuples(index=False,name='Aluno'))\n",
    "\n",
    "# Completa a lista com None, representando cadeiras vazias nas turmas\n",
    "lista_completa_alunos = list(chain(\n",
    "    alunos_tuplas,\n",
    "    repeat(None, ocupacao_total_turmas - len(alunos_tuplas))\n",
    "))"
   ]
  },
  {
   "cell_type": "markdown",
   "id": "b7082041",
   "metadata": {},
   "source": [
    "Criação da população inicial para o algoritmo genético — ou seja, os primeiros candidatos à solução de enturmação."
   ]
  },
  {
   "cell_type": "code",
   "execution_count": 11,
   "id": "5ff2c7a2",
   "metadata": {},
   "outputs": [
    {
     "name": "stdout",
     "output_type": "stream",
     "text": [
      "[88, 112, 68, 86, 4, 77, 115, 74, 9, 7, 59, 70, 89, 85, 79, 80, 78, 18, 49, 87, 72, 21, 22, 61, 1, 103, 44, 54, 25, 52, 63, 111, 83, 5, 20, 104, 36, 40, 37, 45, 26, 41, 73, 109, 42, 11, 60, 43, 34, 46, 32, 106, 16, 58, 29, 117, 102, 27, 95, 105, 116, 38, 2, 107, 50, 84, 56, 35, 91, 6, 71, 99, 53, 75, 93, 69, 81, 12, 118, 15, 33, 82, 98, 92, 48, 119, 3, 76, 24, 108, 39, 94, 28, 19, 8, 62, 17, 47, 14, 31, 66, 23, 114, 97, 57, 67, 55, 64, 113, 10, 100, 101, 13, 65, 30, 96, 0, 110, 51, 90]\n",
      "[110, 60, 68, 6, 65, 112, 71, 37, 12, 58, 47, 89, 49, 56, 2, 13, 82, 46, 102, 38, 86, 15, 57, 80, 39, 64, 63, 118, 107, 52, 30, 83, 7, 95, 84, 114, 59, 51, 116, 25, 48, 5, 91, 32, 98, 113, 1, 97, 19, 50, 41, 36, 43, 9, 44, 23, 72, 28, 22, 81, 100, 3, 54, 88, 92, 70, 67, 31, 55, 4, 119, 17, 45, 87, 115, 76, 14, 10, 90, 108, 73, 42, 94, 66, 77, 29, 0, 35, 69, 101, 61, 75, 103, 99, 104, 62, 53, 21, 26, 105, 96, 8, 79, 18, 16, 109, 78, 24, 33, 106, 20, 111, 93, 40, 117, 27, 34, 74, 85, 11]\n",
      "[42, 61, 118, 110, 22, 50, 0, 30, 18, 40, 8, 52, 96, 112, 78, 38, 65, 9, 54, 24, 94, 101, 67, 37, 17, 104, 1, 49, 99, 16, 113, 55, 59, 82, 76, 119, 81, 47, 35, 33, 95, 36, 70, 45, 41, 11, 75, 80, 32, 98, 71, 66, 102, 72, 89, 106, 105, 86, 88, 53, 25, 103, 97, 34, 74, 14, 107, 64, 69, 57, 73, 19, 29, 27, 21, 5, 109, 77, 39, 60, 48, 100, 62, 90, 6, 79, 23, 83, 84, 87, 116, 92, 15, 4, 46, 93, 117, 51, 58, 68, 108, 91, 43, 63, 56, 85, 13, 44, 20, 7, 10, 115, 31, 26, 111, 2, 3, 12, 28, 114]\n",
      "[22, 116, 26, 32, 41, 29, 87, 45, 105, 97, 52, 16, 78, 19, 38, 51, 112, 39, 74, 54, 44, 82, 56, 60, 10, 92, 13, 1, 27, 88, 9, 57, 8, 37, 101, 107, 7, 18, 62, 102, 46, 36, 63, 111, 72, 25, 91, 85, 2, 24, 66, 118, 47, 49, 90, 33, 73, 5, 64, 70, 65, 83, 0, 110, 103, 115, 53, 4, 11, 69, 96, 15, 28, 42, 14, 76, 108, 59, 94, 77, 98, 34, 93, 21, 43, 104, 84, 6, 31, 89, 35, 61, 100, 23, 109, 114, 95, 99, 71, 106, 40, 119, 79, 86, 20, 117, 12, 50, 48, 75, 17, 113, 80, 67, 3, 68, 30, 55, 81, 58]\n"
     ]
    }
   ],
   "source": [
    "individuo1 = list(range(0, ocupacao_total_turmas))\n",
    "individuo2 = list(range(0, ocupacao_total_turmas))\n",
    "individuo3 = list(range(0, ocupacao_total_turmas))\n",
    "individuo4 = list(range(0, ocupacao_total_turmas))\n",
    "random.shuffle(individuo1)\n",
    "random.shuffle(individuo2)\n",
    "random.shuffle(individuo3)\n",
    "random.shuffle(individuo4)\n",
    "\n",
    "print(individuo1)\n",
    "print(individuo2)\n",
    "print(individuo3)\n",
    "print(individuo4)\n",
    "\n",
    "initial_population = [individuo1, individuo2, individuo3, individuo4]"
   ]
  },
  {
   "cell_type": "markdown",
   "id": "f27c1209",
   "metadata": {},
   "source": [
    "Definindo a função de avaliação (fitness) do algoritmo genético — a parte mais crítica!\n",
    "Ela mede quão boa é cada solução, com base no quanto ela respeita os limites de diversidade definidos anteriormente."
   ]
  },
  {
   "cell_type": "code",
   "execution_count": 12,
   "id": "3ce0c405",
   "metadata": {},
   "outputs": [],
   "source": [
    "def calcula_penalidades(alunos_turma, sexo_pt, pl_pt, procedencia_pt, idade_pt):\n",
    "    qtd_sexo = Counter([aluno.Sexo for aluno in alunos_turma])\n",
    "    qtd_letras = Counter([aluno.PrimeiraLetra for aluno in alunos_turma])\n",
    "    qtd_procedencia = Counter([aluno.Procedencia for aluno in alunos_turma])\n",
    "    qtd_idade = Counter([aluno.Idade for aluno in alunos_turma])        \n",
    "    return [calcula_penalidade(qtd_sexo, sexo_pt), calcula_penalidade(qtd_letras, pl_pt), calcula_penalidade(qtd_procedencia, procedencia_pt), calcula_penalidade(qtd_idade, idade_pt)]\n",
    "\n",
    "def fitness_func(ga_instance, solution, solution_idx):\n",
    "    turmas_solution = np.reshape(solution, newshape=(numero_turmas, total_alunos_por_turma_distribuida))\n",
    "    penalidades_total = 0\n",
    "    for turma in turmas_solution:\n",
    "        alunos_turma = obtenha_alunos(lista_completa_alunos, turma)\n",
    "        penalidades = np.sum(calcula_penalidades(alunos_turma, grupo_sexo_pt, grupo_pl_pt, grupo_procedencia_pt, grupo_idade_pt))\n",
    "        penalidades_total += penalidades\n",
    "    return 1 / penalidades_total"
   ]
  },
  {
   "cell_type": "markdown",
   "id": "cb528cb1",
   "metadata": {},
   "source": [
    "Configuração dos parâmetros do algoritmo genético pygad, controlando como as soluções evoluem ao longo das gerações."
   ]
  },
  {
   "cell_type": "code",
   "execution_count": 13,
   "id": "abfbc048",
   "metadata": {},
   "outputs": [],
   "source": [
    "num_generations = 150000\n",
    "num_parents_mating = 2\n",
    "\n",
    "sol_per_pop = 2\n",
    "num_genes = ocupacao_total_turmas\n",
    "init_range_low = 0\n",
    "init_range_high = ocupacao_total_turmas\n",
    "gene_space = [i for i in range(0, ocupacao_total_turmas)]\n",
    "\n",
    "parent_selection_type = \"rank\"\n",
    "keep_parents = 2 \n",
    "crossover_type = \"single_point\" \n",
    "\n",
    "mutation_type = \"swap\" \n",
    "mutation_percent_genes = 20\n"
   ]
  },
  {
   "cell_type": "markdown",
   "id": "d298d016",
   "metadata": {},
   "source": [
    "Executa o algoritmo genético com a biblioteca pygad e exibe a evolução da qualidade das soluções ao longo das gerações."
   ]
  },
  {
   "cell_type": "code",
   "execution_count": 14,
   "id": "04489ace",
   "metadata": {},
   "outputs": [
    {
     "name": "stderr",
     "output_type": "stream",
     "text": [
      "c:\\Users\\JuninhoDRZ\\AppData\\Local\\Programs\\Python\\Python39\\lib\\site-packages\\pygad\\visualize\\plot.py:120: UserWarning: No artists with labels found to put in legend.  Note that artists whose label start with an underscore are ignored when legend() is called with no argument.\n",
      "  matplt.legend()\n"
     ]
    },
    {
     "data": {
      "image/png": "[encoded data removed]",
      "text/plain": [
       "<Figure size 640x480 with 1 Axes>"
      ]
     },
     "metadata": {},
     "output_type": "display_data"
    },
    {
     "data": {
      "image/png": "[encoded data removed]",
      "text/plain": [
       "<Figure size 640x480 with 1 Axes>"
      ]
     },
     "execution_count": 14,
     "metadata": {},
     "output_type": "execute_result"
    }
   ],
   "source": [
    "ga_instance = pygad.GA(num_generations=num_generations,\n",
    "                       num_parents_mating=num_parents_mating,\n",
    "                       sol_per_pop=sol_per_pop,\n",
    "                       num_genes=num_genes,\n",
    "                       initial_population=initial_population,\n",
    "                       gene_space = gene_space,\n",
    "                       fitness_func=fitness_func,\n",
    "                       parent_selection_type=parent_selection_type,\n",
    "                       keep_parents=keep_parents,\n",
    "                       crossover_type=crossover_type,\n",
    "                       mutation_type=mutation_type,\n",
    "                       mutation_percent_genes=mutation_percent_genes,\n",
    "                       allow_duplicate_genes=False,\n",
    "                       gene_type=int)\n",
    "\n",
    "ga_instance.run()\n",
    "\n",
    "ga_instance.plot_fitness()"
   ]
  },
  {
   "cell_type": "markdown",
   "id": "0b8212aa",
   "metadata": {},
   "source": [
    "✅ Interpretação do gráfico: PyGAD - Generation vs. Fitness\n",
    "Eixo X (Generation): número da geração (de 0 até 150.000).\n",
    "Eixo Y (Fitness): inverso da penalidade total. Quanto maior o valor, melhor a solução.\n",
    "\n",
    "Curva crescente: significa que o algoritmo está melhorando a distribuição dos alunos nas turmas ao longo do tempo, reduzindo as penalidades.\n",
    "\n",
    "Plateaus: trechos planos onde o algoritmo parou de melhorar por algumas gerações, comum em GAs até encontrar uma nova combinação favorável.\n",
    "\n",
    "💡 O que o gráfico mostra?\n",
    "\n",
    "Chegou perto de uma fitness de 0.2, o que indica baixa penalidade (ou seja, turmas balanceadas).\n",
    "A evolução mostra que foi necessário um grande número de gerações (cerca de 150 mil) para atingir o melhor resultado observado."
   ]
  },
  {
   "cell_type": "markdown",
   "id": "6a0ff58e",
   "metadata": {},
   "source": [
    " Pega a melhor solução encontrada pelo algoritmo genético e a converte em uma estrutura representando as turmas."
   ]
  },
  {
   "cell_type": "code",
   "execution_count": 15,
   "id": "90e89c38",
   "metadata": {},
   "outputs": [],
   "source": [
    "individuo = ga_instance.best_solution()[0]\n",
    "turmas = np.reshape(individuo, newshape=(numero_turmas, total_alunos_por_turma_distribuida))"
   ]
  },
  {
   "cell_type": "markdown",
   "id": "6f7baebd",
   "metadata": {},
   "source": [
    "Coleta estatísticas por turma com base na distribuição de alunos, após a otimização com algoritmo genético."
   ]
  },
  {
   "cell_type": "code",
   "execution_count": 16,
   "id": "8c28f261",
   "metadata": {},
   "outputs": [],
   "source": [
    "lst_sexo = []\n",
    "lst_letras = []\n",
    "lst_idade = []\n",
    "lst_procedencia = []\n",
    "\n",
    "indice_turma = 1\n",
    "for turma in turmas:\n",
    "    alunos_turma = obtenha_alunos(lista_completa_alunos, turma)\n",
    "    qtd_letras = Counter([aluno.PrimeiraLetra for aluno in alunos_turma])\n",
    "    qtd_sexo = Counter([aluno.Sexo for aluno in alunos_turma])\n",
    "    qtd_procedencia = Counter([aluno.Procedencia for aluno in alunos_turma])\n",
    "    qtd_idade = Counter([aluno.Idade for aluno in alunos_turma])\n",
    "    for k in qtd_sexo:\n",
    "        lst_sexo.append({'Turma': indice_turma, 'Sexo': k, 'Quantidade': qtd_sexo[k]})\n",
    "    for k in qtd_letras:\n",
    "        lst_letras.append({'Turma': indice_turma, 'Letra': k, 'Quantidade': qtd_letras[k]})\n",
    "    for k in qtd_idade:\n",
    "        lst_idade.append({'Turma': indice_turma, 'Idade': k, 'Quantidade': qtd_idade[k]})\n",
    "    for k in qtd_procedencia:\n",
    "        lst_procedencia.append({'Turma': indice_turma, 'Procedencia': k, 'Quantidade': qtd_procedencia[k]})\n",
    "\n",
    "    indice_turma += 1"
   ]
  },
  {
   "cell_type": "markdown",
   "id": "dc7d5840",
   "metadata": {},
   "source": [
    "## Gera um gráfico de barras agrupadas por sexo e turma, utilizando seaborn e matplotlib."
   ]
  },
  {
   "cell_type": "code",
   "execution_count": 17,
   "id": "8191b19c",
   "metadata": {},
   "outputs": [
    {
     "data": {
      "image/png": "[encoded data removed]",
      "text/plain": [
       "<Figure size 1800x800 with 1 Axes>"
      ]
     },
     "metadata": {},
     "output_type": "display_data"
    }
   ],
   "source": [
    "plt.figure(figsize=(18, 8))\n",
    "df_sexo = pd.DataFrame(data=lst_sexo)\n",
    "ax = sns.barplot(x = 'Sexo', y = 'Quantidade', hue = 'Turma', data = df_sexo, palette='dark:crimson')\n",
    "for container in ax.containers:\n",
    "    ax.bar_label(container)"
   ]
  },
  {
   "cell_type": "markdown",
   "id": "f4e0543c",
   "metadata": {},
   "source": [
    "Todas as turmas têm entre 8 e 9 alunas do sexo feminino.\n",
    "Todas as turmas têm entre 15 e 16 alunos do sexo masculino.\n",
    "\n",
    "A distribuição está razoavelmente equilibrada entre as turmas, sugerindo que o algoritmo genético buscou essa homogeneidade."
   ]
  },
  {
   "cell_type": "markdown",
   "id": "ae7eeb9d",
   "metadata": {},
   "source": [
    "## Gera um gráfico de barras que mostra a distribuição de alunos por primeira letra do nome, segmentada por turma."
   ]
  },
  {
   "cell_type": "code",
   "execution_count": 18,
   "id": "bba2b263",
   "metadata": {},
   "outputs": [
    {
     "data": {
      "image/png": "[encoded data removed]",
      "text/plain": [
       "<Figure size 1800x800 with 1 Axes>"
      ]
     },
     "metadata": {},
     "output_type": "display_data"
    }
   ],
   "source": [
    "plt.figure(figsize=(18, 8))\n",
    "df_letras = pd.DataFrame(data=lst_letras)\n",
    "df_letras.sort_values(by=['Letra'], inplace=True)\n",
    "ax = sns.barplot(x = 'Letra', y = 'Quantidade', hue = 'Turma', data = df_letras, palette='dark:crimson')\n",
    "for container in ax.containers:\n",
    "    ax.bar_label(container)"
   ]
  },
  {
   "cell_type": "markdown",
   "id": "0cdac5bb",
   "metadata": {},
   "source": [
    "As turmas estão bem balanceadas em relação às iniciais dos nomes.\n",
    "\n",
    "Exemplo: A letra \"M\" tem 4 alunos nas turmas 1 e 2, e 3 nas outras, mostrando distribuição homogênea.\n",
    "\n",
    "Poucas letras têm concentração em apenas uma turma (ex: letra \"O\", \"R\")."
   ]
  },
  {
   "cell_type": "markdown",
   "id": "e43741a1",
   "metadata": {},
   "source": [
    "## Gera um gráfico que representa a distribuição da idade dos alunos por turma."
   ]
  },
  {
   "cell_type": "code",
   "execution_count": 19,
   "id": "4fec4ec1",
   "metadata": {},
   "outputs": [
    {
     "data": {
      "image/png": "[encoded data removed]",
      "text/plain": [
       "<Figure size 1800x800 with 1 Axes>"
      ]
     },
     "metadata": {},
     "output_type": "display_data"
    }
   ],
   "source": [
    "plt.figure(figsize=(18, 8))\n",
    "df_idade = pd.DataFrame(data=lst_idade)\n",
    "df_idade.sort_values(by=['Idade'], inplace=True)\n",
    "ax = sns.barplot(x = 'Idade', y = 'Quantidade', hue = 'Turma', data = df_idade, palette='dark:crimson')\n",
    "for container in ax.containers:\n",
    "    ax.bar_label(container)"
   ]
  },
  {
   "cell_type": "markdown",
   "id": "81efdd20",
   "metadata": {},
   "source": [
    "Idade 11: É claramente a mais frequente, com 16–17 alunos por turma, indicando bom equilíbrio e que a maioria dos alunos tem essa idade.\n",
    "\n",
    "Idade 12: Está razoavelmente distribuída, com 6–7 alunos por turma.\n",
    "\n",
    "Idades 9 e 10: Têm ocorrência pontual (apenas 1 aluno por idade em algumas turmas), indicando exceções."
   ]
  },
  {
   "cell_type": "markdown",
   "id": "6b1ebd21",
   "metadata": {},
   "source": [
    "## Gera um gráfico de barras agrupadas que mostra a quantidade de alunos por Procedência em cada Turma."
   ]
  },
  {
   "cell_type": "code",
   "execution_count": 20,
   "id": "74df72ab",
   "metadata": {},
   "outputs": [
    {
     "data": {
      "image/png": "[encoded data removed]",
      "text/plain": [
       "<Figure size 1800x800 with 1 Axes>"
      ]
     },
     "metadata": {},
     "output_type": "display_data"
    }
   ],
   "source": [
    "plt.figure(figsize=(18, 8))\n",
    "df_procedencia = pd.DataFrame(data=lst_procedencia)\n",
    "df_procedencia.sort_values(by=['Procedencia'], inplace=True)\n",
    "ax = sns.barplot(x = 'Procedencia', y = 'Quantidade', hue = 'Turma', data = df_procedencia, palette='dark:crimson')\n",
    "for container in ax.containers:\n",
    "    ax.bar_label(container)"
   ]
  },
  {
   "cell_type": "markdown",
   "id": "a2626e06",
   "metadata": {},
   "source": [
    "Procedência 368 domina, com 14 a 15 alunos em cada turma — muito equilibrado.\n",
    "\n",
    "Outras procedências como 254, 501446, 289 aparecem pontualmente.\n",
    "\n",
    "Diversidade de procedências foi bem distribuída entre as turmas — um dos objetivos do algoritmo genético."
   ]
  }
 ],
 "metadata": {
  "kernelspec": {
   "display_name": "Python 3",
   "language": "python",
   "name": "python3"
  },
  "language_info": {
   "codemirror_mode": {
    "name": "ipython",
    "version": 3
   },
   "file_extension": ".py",
   "mimetype": "text/x-python",
   "name": "python",
   "nbconvert_exporter": "python",
   "pygments_lexer": "ipython3",
   "version": "3.9.13"
  }
 },
 "nbformat": 4,
 "nbformat_minor": 5
}
